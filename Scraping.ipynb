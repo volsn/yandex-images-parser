{
 "cells": [
  {
   "cell_type": "code",
   "execution_count": 148,
   "metadata": {},
   "outputs": [],
   "source": [
    "import os\n",
    "import re\n",
    "from selenium import webdriver\n",
    "from selenium.webdriver.common.proxy import *\n",
    "from urllib.request import urlretrieve\n",
    "from random import randint\n",
    "from time import sleep"
   ]
  },
  {
   "cell_type": "code",
   "execution_count": 109,
   "metadata": {},
   "outputs": [],
   "source": [
    "minW = 500\n",
    "minH = 500"
   ]
  },
  {
   "cell_type": "code",
   "execution_count": null,
   "metadata": {},
   "outputs": [],
   "source": [
    "\"\"\"\n",
    "205.204.71.218:1490\n",
    "tesetfddfg\n",
    "Dsdfdvcxbcv\n",
    "\"\"\""
   ]
  },
  {
   "cell_type": "code",
   "execution_count": 172,
   "metadata": {},
   "outputs": [],
   "source": [
    "myProxy = \"205.204.71.218:1490\"\n",
    "\n",
    "proxy = Proxy({\n",
    "    'proxyType': ProxyType.MANUAL,\n",
    "    'httpProxy': myProxy,\n",
    "    'ftpProxy': myProxy,\n",
    "    'sslProxy': myProxy,\n",
    "    'noProxy': '',\n",
    "    'socksUsername': 'tesetfddfg',\n",
    "    'socksPassword': 'Dsdfdvcxbcv',\n",
    "})"
   ]
  },
  {
   "cell_type": "code",
   "execution_count": 177,
   "metadata": {},
   "outputs": [],
   "source": [
    "driverPref = webdriver.ChromeOptions()\n",
    "\n",
    "driverPref.add_argument('--proxy-server=socks5://205.204.71.218:1490')\n",
    "driverPref.add_argument('--proxy-auth=tesetfddfg:Dsdfdvcxbcv')"
   ]
  },
  {
   "cell_type": "code",
   "execution_count": 178,
   "metadata": {},
   "outputs": [
    {
     "name": "stderr",
     "output_type": "stream",
     "text": [
      "/anaconda3/envs/yandex_parser/lib/python3.6/site-packages/ipykernel_launcher.py:1: DeprecationWarning: use options instead of chrome_options\n",
      "  \"\"\"Entry point for launching an IPython kernel.\n"
     ]
    }
   ],
   "source": [
    "driver = webdriver.Chrome(chrome_options=driverPref)"
   ]
  },
  {
   "cell_type": "code",
   "execution_count": 181,
   "metadata": {},
   "outputs": [],
   "source": [
    "driver.get('https://google.com')"
   ]
  },
  {
   "cell_type": "code",
   "execution_count": 182,
   "metadata": {},
   "outputs": [],
   "source": [
    "def find_similar_images(path, quantity=2):\n",
    "    \n",
    "    images = []\n",
    "    \n",
    "    driver = webdriver.Chrome() \n",
    "    driver.get('https://yandex.ru/images/')\n",
    "    sleep(randint(1,2))\n",
    "    \n",
    "    driver.find_element_by_css_selector('.icon.icon_type_cbir.input__button').click()\n",
    "    sleep(randint(1,2))\n",
    "    \n",
    "    driver.find_element_by_css_selector(\".cbir-panel__file-input\")\\\n",
    "                .send_keys('/Users/vlsnk/Desktop/Work/yandex_parser/Photos/Pepe.jpeg')\n",
    "    sleep(15)\n",
    "    sleep(randint(1,2))\n",
    "\n",
    "    more_button = driver.find_element_by_css_selector('.similar__thumb_last_yes')\n",
    "    href = more_button.find_element_by_css_selector('.link_theme_normal').get_attribute('href')\n",
    "    \n",
    "    driver.get(href)\n",
    "    sleep(randint(1,2))\n",
    "\n",
    "    for i in range(quantity): \n",
    "\n",
    "        images_on_screen = driver.find_elements_by_css_selector('.serp-item__preview')\n",
    "        \n",
    "        for image in images_on_screen:\n",
    "            \n",
    "            (w,h) = image.find_element_by_css_selector('.serp-item__meta')\\\n",
    "                    .get_attribute('innerHTML').split('×')\n",
    "            \n",
    "            w = re.search(r'\\d+', w).group(0)\n",
    "            h = re.search(r'\\d+', h).group(0)\n",
    "            \n",
    "            w = int(w)\n",
    "            h = int(h)\n",
    "            \n",
    "            if w >= minW and h >= minH:\n",
    "            \n",
    "                images.append(\n",
    "                    image.find_element_by_css_selector('.serp-item__link').get_attribute('href')\n",
    "                )\n",
    "\n",
    "        driver.execute_script(\"window.scrollTo({}, {})\".format(1000*i, 1000*(i+1)))\n",
    "        sleep(randint(1,2))\n",
    "        \n",
    "            \n",
    "    driver.close()    \n",
    "    \n",
    "    return images"
   ]
  },
  {
   "cell_type": "code",
   "execution_count": 184,
   "metadata": {},
   "outputs": [],
   "source": [
    "images = find_similar_images('/Photos/Pepe.jpeg')"
   ]
  },
  {
   "cell_type": "code",
   "execution_count": 186,
   "metadata": {},
   "outputs": [
    {
     "data": {
      "text/plain": [
       "67"
      ]
     },
     "execution_count": 186,
     "metadata": {},
     "output_type": "execute_result"
    }
   ],
   "source": [
    "len(images)"
   ]
  },
  {
   "cell_type": "code",
   "execution_count": 123,
   "metadata": {},
   "outputs": [
    {
     "data": {
      "text/plain": [
       "'1584'"
      ]
     },
     "execution_count": 123,
     "metadata": {},
     "output_type": "execute_result"
    }
   ],
   "source": [
    "re.search(r'\\d+', '<span class=\"serp-item__hd\">HD&nbsp;</span>1584').group(0)"
   ]
  },
  {
   "cell_type": "code",
   "execution_count": 132,
   "metadata": {},
   "outputs": [
    {
     "data": {
      "text/plain": [
       "20"
      ]
     },
     "execution_count": 132,
     "metadata": {},
     "output_type": "execute_result"
    }
   ],
   "source": [
    "len(images)"
   ]
  },
  {
   "cell_type": "code",
   "execution_count": null,
   "metadata": {},
   "outputs": [],
   "source": []
  },
  {
   "cell_type": "code",
   "execution_count": null,
   "metadata": {},
   "outputs": [],
   "source": [
    "with open('config.txt', 'r') as f:\n",
    "    configs = f.readline()\n",
    "    \n",
    "    (minW, minH) = configs.split(':')\n",
    "    minW = int()"
   ]
  },
  {
   "cell_type": "code",
   "execution_count": null,
   "metadata": {},
   "outputs": [],
   "source": []
  },
  {
   "cell_type": "code",
   "execution_count": null,
   "metadata": {},
   "outputs": [],
   "source": []
  },
  {
   "cell_type": "code",
   "execution_count": null,
   "metadata": {},
   "outputs": [],
   "source": []
  },
  {
   "cell_type": "code",
   "execution_count": 38,
   "metadata": {},
   "outputs": [],
   "source": [
    "driver = webdriver.Firefox()\n",
    "\n",
    "sources = []\n",
    "\n",
    "for i, src in enumerate(images[:3]):\n",
    "\n",
    "    driver.get(src)\n",
    "    sleep(2)\n",
    "    sources.append(driver.find_element_by_css_selector('.preview2__arrow-image').get_attribute('src'))"
   ]
  },
  {
   "cell_type": "code",
   "execution_count": 39,
   "metadata": {},
   "outputs": [
    {
     "data": {
      "text/plain": [
       "['https://lh5.googleusercontent.com/-qGg2zE5xwto/AAAAAAAAAAI/AAAAAAAAAB4/FKW3tVlX1Ek/photo.jpg',\n",
       " 'https://ykl-res.azureedge.net/8406491d-eaa0-41f5-9f71-e704f117baa6/photomedium.jpg',\n",
       " 'https://99px.ru/sstorage/17/2018/04/2704181856278559.']"
      ]
     },
     "execution_count": 39,
     "metadata": {},
     "output_type": "execute_result"
    }
   ],
   "source": [
    "sources"
   ]
  },
  {
   "cell_type": "code",
   "execution_count": 134,
   "metadata": {},
   "outputs": [],
   "source": [
    "def get_image_sources(images):\n",
    "    \n",
    "    sources = []\n",
    "    \n",
    "    for i, image in enumerate(images):\n",
    "        \n",
    "        driver = webdriver.Chrome()\n",
    "        driver.get(image)\n",
    "        sleep(3)\n",
    "        \n",
    "        roi = driver.find_element_by_css_selector('.sizes')\n",
    "\n",
    "        sources.append(\n",
    "            roi.find_element_by_css_selector('.button2').get_attribute('href')\n",
    "        )\n",
    "\n",
    "        driver.close()\n",
    "        \n",
    "    return [src for src in sources if src != 'https://yandex.ru/']"
   ]
  },
  {
   "cell_type": "code",
   "execution_count": 135,
   "metadata": {},
   "outputs": [],
   "source": [
    "sources = get_image_sources(images)"
   ]
  },
  {
   "cell_type": "code",
   "execution_count": 108,
   "metadata": {},
   "outputs": [
    {
     "name": "stdout",
     "output_type": "stream",
     "text": [
      "https://yandex.ru/images/search?pos=1&img_url=https%3A%2F%2Fykl-res.azureedge.net%2F8406491d-eaa0-41f5-9f71-e704f117baa6%2Fphotomedium.jpg&cbir_id=1689115%2FBjFzIRtxGBKnA8on_UrEXw&rpt=imagelike&source=collections\n"
     ]
    }
   ],
   "source": [
    "print(images[1])"
   ]
  },
  {
   "cell_type": "code",
   "execution_count": 137,
   "metadata": {},
   "outputs": [],
   "source": [
    "sources = [src for src in sources if src != 'https://yandex.ru/']"
   ]
  },
  {
   "cell_type": "code",
   "execution_count": 138,
   "metadata": {},
   "outputs": [
    {
     "data": {
      "text/plain": [
       "['https://lh5.googleusercontent.com/-qGg2zE5xwto/AAAAAAAAAAI/AAAAAAAAAB4/FKW3tVlX1Ek/photo.jpg',\n",
       " 'https://pbs.twimg.com/profile_banners/2586472099/1444091318/1500x500',\n",
       " 'https://yt3.ggpht.com/a/AGF-l78uKh8C3zP0naZxBq6_GlpKn2OELcYBXUSILQ=s900-mo-c-c0xffffffff-rj-k-no',\n",
       " 'https://pics.me.me/%3E-be-me-%3E-learn-that-success-rate-for-suicide-39744412.png',\n",
       " 'https://i.ytimg.com/vi/4oC_BzPwJ-0/maxresdefault.jpg',\n",
       " 'https://yt3.ggpht.com/a/AGF-l78PebeLabfBsQjG1ZF4H5--4OvUdDvwvNjZeQ=s900-mo-c-c0xffffffff-rj-k-no',\n",
       " 'https://yt3.ggpht.com/a/AGF-l7-jCbEPZCnRaV8YofKQWPzF9KhJGtMJa3RuoQ=s900-mo-c-c0xffffffff-rj-k-no',\n",
       " 'https://media.8ch.net/4everchan/src/1418936033794-1.jpg',\n",
       " 'https://lh5.googleusercontent.com/-qGg2zE5xwto/AAAAAAAAAAI/AAAAAAAAAB4/FKW3tVlX1Ek/photo.jpg',\n",
       " 'https://pbs.twimg.com/profile_banners/2586472099/1444091318/1500x500',\n",
       " 'https://yt3.ggpht.com/a/AGF-l78uKh8C3zP0naZxBq6_GlpKn2OELcYBXUSILQ=s900-mo-c-c0xffffffff-rj-k-no',\n",
       " 'https://i.ytimg.com/vi/iK6sws8HpFY/maxresdefault.jpg',\n",
       " 'https://pp.userapi.com/c638916/v638916131/2b10f/gGHyCx6zJiU.jpg',\n",
       " 'https://pics.me.me/%3E-be-me-%3E-learn-that-success-rate-for-suicide-39744412.png',\n",
       " 'https://i.ytimg.com/vi/4oC_BzPwJ-0/maxresdefault.jpg',\n",
       " 'https://yt3.ggpht.com/a/AGF-l78PebeLabfBsQjG1ZF4H5--4OvUdDvwvNjZeQ=s900-mo-c-c0xffffffff-rj-k-no',\n",
       " 'https://yt3.ggpht.com/a/AGF-l7-jCbEPZCnRaV8YofKQWPzF9KhJGtMJa3RuoQ=s900-mo-c-c0xffffffff-rj-k-no',\n",
       " 'https://media.8ch.net/4everchan/src/1418936033794-1.jpg']"
      ]
     },
     "execution_count": 138,
     "metadata": {},
     "output_type": "execute_result"
    }
   ],
   "source": [
    "sources"
   ]
  },
  {
   "cell_type": "code",
   "execution_count": 143,
   "metadata": {},
   "outputs": [],
   "source": [
    "if not os.path.exists('Results'):\n",
    "    os.mkdir('Results')"
   ]
  },
  {
   "cell_type": "code",
   "execution_count": 147,
   "metadata": {},
   "outputs": [],
   "source": [
    "for i, src in enumerate(sources):\n",
    "    try:\n",
    "        urlretrieve(src, os.path.join('Results', \"{}.png\".format(i)))\n",
    "    except:\n",
    "        pass"
   ]
  },
  {
   "cell_type": "code",
   "execution_count": 83,
   "metadata": {},
   "outputs": [],
   "source": [
    "driver = webdriver.Firefox()\n",
    "driver.get(images[2])\n",
    "sleep(3)\n",
    "frame = driver.find_element_by_css_selector('.preview2')       "
   ]
  },
  {
   "cell_type": "code",
   "execution_count": 84,
   "metadata": {},
   "outputs": [
    {
     "data": {
      "text/plain": [
       "'https://99px.ru/sstorage/17/2018/04/2704181856278559.'"
      ]
     },
     "execution_count": 84,
     "metadata": {},
     "output_type": "execute_result"
    }
   ],
   "source": [
    "frame.find_element_by_css_selector('.preview2__thumb.preview2__thumb_visible_yes.preview2__thumb_fit_height')\\\n",
    "                        .get_attribute('src')"
   ]
  },
  {
   "cell_type": "code",
   "execution_count": null,
   "metadata": {},
   "outputs": [],
   "source": []
  }
 ],
 "metadata": {
  "kernelspec": {
   "display_name": "yandex_parser",
   "language": "python",
   "name": "yandex_parser"
  },
  "language_info": {
   "codemirror_mode": {
    "name": "ipython",
    "version": 3
   },
   "file_extension": ".py",
   "mimetype": "text/x-python",
   "name": "python",
   "nbconvert_exporter": "python",
   "pygments_lexer": "ipython3",
   "version": "3.6.8"
  }
 },
 "nbformat": 4,
 "nbformat_minor": 2
}
